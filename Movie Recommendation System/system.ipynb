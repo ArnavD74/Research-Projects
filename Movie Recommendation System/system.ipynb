{
 "cells": [
  {
   "cell_type": "markdown",
   "id": "95a6e61b-6aa8-4f55-abde-320372220770",
   "metadata": {
    "deletable": false,
    "editable": false,
    "nbgrader": {
     "cell_type": "markdown",
     "checksum": "cdcc9d6570b3ba3fbef0c3a685ee58ab",
     "grade": false,
     "grade_id": "cell-877c53b263a95c60",
     "locked": true,
     "schema_version": 3,
     "solution": false,
     "task": false
    },
    "tags": []
   },
   "source": [
    "### Part 1: Reading Data"
   ]
  },
  {
   "cell_type": "code",
   "execution_count": 3,
   "id": "fe027c78",
   "metadata": {
    "deletable": false,
    "editable": false,
    "nbgrader": {
     "cell_type": "code",
     "checksum": "710446f79783a399bf39c50f17b7f928",
     "grade": false,
     "grade_id": "cell-73d9bd4b32476d96",
     "locked": true,
     "schema_version": 3,
     "solution": false,
     "task": false
    },
    "tags": []
   },
   "outputs": [],
   "source": [
    "import hw3"
   ]
  },
  {
   "cell_type": "code",
   "execution_count": 4,
   "id": "1b9e855f-a02c-4f5f-9f14-696a8fc7cb04",
   "metadata": {
    "deletable": false,
    "editable": false,
    "nbgrader": {
     "cell_type": "code",
     "checksum": "cbf74e3f9e994057c8e82e06bb0bfcc6",
     "grade": false,
     "grade_id": "cell-036ae118b11b4de8",
     "locked": true,
     "schema_version": 3,
     "solution": false,
     "task": false
    },
    "tags": []
   },
   "outputs": [],
   "source": [
    "from hw3 import read_movies_data, read_ratings_data"
   ]
  },
  {
   "cell_type": "code",
   "execution_count": 5,
   "id": "b7fb2073",
   "metadata": {
    "tags": []
   },
   "outputs": [],
   "source": [
    "movies_df = read_movies_data(\"moviesSample.txt\")"
   ]
  },
  {
   "cell_type": "code",
   "execution_count": 6,
   "id": "cc716428",
   "metadata": {
    "deletable": false,
    "editable": false,
    "nbgrader": {
     "cell_type": "code",
     "checksum": "b270b77c931949935cdd7c59dea63983",
     "grade": true,
     "grade_id": "test_read_movies_data",
     "locked": true,
     "points": 8,
     "schema_version": 3,
     "solution": false,
     "task": false
    },
    "tags": []
   },
   "outputs": [],
   "source": [
    "assert movies_df.shape == (9, 3)\n",
    "assert movies_df.iloc[2, 2] == \"Comedy\"\n",
    "assert movies_df.loc[6, \"title\"] == \"Heat\"\n",
    "assert all(movies_df.columns == [\"title\", \"year\", \"genre\"])\n",
    "assert list(movies_df.index) == [1, 2, 3, 4, 5, 6, 8, 9, 10]"
   ]
  },
  {
   "cell_type": "code",
   "execution_count": 7,
   "id": "07b71107",
   "metadata": {
    "tags": []
   },
   "outputs": [],
   "source": [
    "movie_ratings = read_ratings_data(\"ratingsSample.csv\")"
   ]
  },
  {
   "cell_type": "code",
   "execution_count": 8,
   "id": "7ee2ddaf",
   "metadata": {
    "deletable": false,
    "editable": false,
    "nbgrader": {
     "cell_type": "code",
     "checksum": "3e0a0dfd521b3cd3a74039cae2242fd8",
     "grade": true,
     "grade_id": "test_read_ratings_data",
     "locked": true,
     "points": 8,
     "schema_version": 3,
     "solution": false,
     "task": false
    },
    "tags": []
   },
   "outputs": [],
   "source": [
    "assert sum(movie_ratings[5]) == 24"
   ]
  },
  {
   "cell_type": "markdown",
   "id": "1c6103df",
   "metadata": {
    "deletable": false,
    "editable": false,
    "nbgrader": {
     "cell_type": "markdown",
     "checksum": "7078dc6babbcf8facc8dd7b0826c77f0",
     "grade": false,
     "grade_id": "cell-1c5aeade4ac67173",
     "locked": true,
     "schema_version": 3,
     "solution": false,
     "task": false
    },
    "tags": []
   },
   "source": [
    "### Part 2: Processing Data"
   ]
  },
  {
   "cell_type": "code",
   "execution_count": 9,
   "id": "fe8eff6c",
   "metadata": {
    "deletable": false,
    "editable": false,
    "nbgrader": {
     "cell_type": "code",
     "checksum": "885dd1ce8fbbaf2a75354b7a1ef1cff9",
     "grade": false,
     "grade_id": "cell-7c1592a67d11b5af",
     "locked": true,
     "schema_version": 3,
     "solution": false,
     "task": false
    },
    "tags": []
   },
   "outputs": [],
   "source": [
    "from hw3 import get_movie, create_genre_dict, calculate_average_rating"
   ]
  },
  {
   "cell_type": "code",
   "execution_count": 10,
   "id": "c8028f40",
   "metadata": {
    "tags": []
   },
   "outputs": [],
   "source": [
    "genre_dict = create_genre_dict(movies_df)"
   ]
  },
  {
   "cell_type": "code",
   "execution_count": 11,
   "id": "81d8fbf1",
   "metadata": {
    "tags": []
   },
   "outputs": [],
   "source": [
    "avg_ratings = calculate_average_rating(movie_ratings, movies_df)"
   ]
  },
  {
   "cell_type": "code",
   "execution_count": 12,
   "id": "bc6a455b",
   "metadata": {
    "deletable": false,
    "editable": false,
    "nbgrader": {
     "cell_type": "code",
     "checksum": "0219817b3c10e9889f41604a809fd17b",
     "grade": true,
     "grade_id": "test_calculate_average_rating",
     "locked": true,
     "points": 8,
     "schema_version": 3,
     "solution": false,
     "task": false
    },
    "tags": []
   },
   "outputs": [],
   "source": [
    "assert avg_ratings.loc[3] == 4.0"
   ]
  },
  {
   "cell_type": "markdown",
   "id": "f711f6ca",
   "metadata": {
    "deletable": false,
    "editable": false,
    "nbgrader": {
     "cell_type": "markdown",
     "checksum": "db7b4732fa94dffeb7c284341951f173",
     "grade": false,
     "grade_id": "cell-589a57513c964590",
     "locked": true,
     "schema_version": 3,
     "solution": false,
     "task": false
    },
    "tags": []
   },
   "source": [
    "### Part 3: Recommendations"
   ]
  },
  {
   "cell_type": "code",
   "execution_count": 13,
   "id": "40dc99a8",
   "metadata": {
    "deletable": false,
    "editable": false,
    "nbgrader": {
     "cell_type": "code",
     "checksum": "cf04bf5ba08a42b7abb014b59452f97c",
     "grade": false,
     "grade_id": "cell-9d28f719c294994b",
     "locked": true,
     "schema_version": 3,
     "solution": false,
     "task": false
    },
    "tags": []
   },
   "outputs": [],
   "source": [
    "from hw3 import get_popular_movies, filter_movies, get_popular_in_genre\n",
    "from hw3 import get_genre_rating, get_movie_of_the_year"
   ]
  },
  {
   "cell_type": "code",
   "execution_count": 14,
   "id": "e150d62c",
   "metadata": {
    "tags": []
   },
   "outputs": [
    {
     "data": {
      "text/plain": [
       "6    4.250000\n",
       "5    4.000000\n",
       "3    4.000000\n",
       "1    3.833333\n",
       "dtype: float64"
      ]
     },
     "execution_count": 14,
     "metadata": {},
     "output_type": "execute_result"
    }
   ],
   "source": [
    "get_popular_movies(avg_ratings, 4)"
   ]
  },
  {
   "cell_type": "code",
   "execution_count": 15,
   "id": "d1f8752e",
   "metadata": {
    "deletable": false,
    "editable": false,
    "nbgrader": {
     "cell_type": "code",
     "checksum": "2a66ddac2219139a0693ec1c3541104b",
     "grade": true,
     "grade_id": "test_get_popular_movies",
     "locked": true,
     "points": 8,
     "schema_version": 3,
     "solution": false,
     "task": false
    },
    "tags": []
   },
   "outputs": [],
   "source": [
    "pop_movies = get_popular_movies(avg_ratings, 4)\n",
    "assert pop_movies.is_monotonic_decreasing\n",
    "assert set(pop_movies.index) == {6, 5, 3, 1}"
   ]
  },
  {
   "cell_type": "code",
   "execution_count": 16,
   "id": "8ed4b6a1",
   "metadata": {
    "tags": []
   },
   "outputs": [
    {
     "data": {
      "text/plain": [
       "{1: 3.8333333333333335,\n",
       " 2: 3.4166666666666665,\n",
       " 3: 4.0,\n",
       " 5: 4.0,\n",
       " 6: 4.25,\n",
       " 9: 3.3333333333333335}"
      ]
     },
     "execution_count": 16,
     "metadata": {},
     "output_type": "execute_result"
    }
   ],
   "source": [
    "filter_movies(avg_ratings, 3.2)"
   ]
  },
  {
   "cell_type": "code",
   "execution_count": 17,
   "id": "b58de2e5",
   "metadata": {
    "deletable": false,
    "nbgrader": {
     "cell_type": "code",
     "checksum": "40f2357ce4749ba56b629768f92a3836",
     "grade": true,
     "grade_id": "test_filter_movies",
     "locked": true,
     "points": 8,
     "schema_version": 3,
     "solution": false,
     "task": false
    },
    "tags": []
   },
   "outputs": [],
   "source": [
    "good_movies = filter_movies(avg_ratings, 3.2)\n",
    "# assert good_movies.shape[0] == 6\n",
    "assert len(good_movies) == 6 #changed this since shape did not work for dict\n",
    "# assert all(good_movies.values >= 3.2)\n",
    "assert all(value >= 3.2 for value in good_movies.values()) #changed this since value is not an attribute"
   ]
  },
  {
   "cell_type": "code",
   "execution_count": 18,
   "id": "2aea89ad",
   "metadata": {
    "tags": []
   },
   "outputs": [
    {
     "data": {
      "text/plain": [
       "1    3.833333\n",
       "2    3.416667\n",
       "dtype: float64"
      ]
     },
     "execution_count": 18,
     "metadata": {},
     "output_type": "execute_result"
    }
   ],
   "source": [
    "get_popular_in_genre(\"Adventure\", genre_dict, avg_ratings, 2)"
   ]
  },
  {
   "cell_type": "code",
   "execution_count": 19,
   "id": "36eed84c",
   "metadata": {
    "deletable": false,
    "editable": false,
    "nbgrader": {
     "cell_type": "code",
     "checksum": "420fa97d19e81a1fa8e0a8abd342e580",
     "grade": true,
     "grade_id": "test_get_popular_in_genre",
     "locked": true,
     "points": 8,
     "schema_version": 3,
     "solution": false,
     "task": false
    },
    "tags": []
   },
   "outputs": [],
   "source": [
    "pop_in_genre = get_popular_in_genre(\"Adventure\", genre_dict, avg_ratings, 2)\n",
    "assert list(pop_in_genre.index) == [1, 2]\n",
    "assert pop_in_genre.is_monotonic_decreasing"
   ]
  },
  {
   "cell_type": "code",
   "execution_count": 20,
   "id": "33087090",
   "metadata": {
    "tags": []
   },
   "outputs": [
    {
     "data": {
      "text/plain": [
       "np.float64(3.527777777777778)"
      ]
     },
     "execution_count": 20,
     "metadata": {},
     "output_type": "execute_result"
    }
   ],
   "source": [
    "get_genre_rating(\"Action\", genre_dict, avg_ratings)"
   ]
  },
  {
   "cell_type": "code",
   "execution_count": 21,
   "id": "3edc45a0",
   "metadata": {
    "deletable": false,
    "editable": false,
    "nbgrader": {
     "cell_type": "code",
     "checksum": "e420d22e6d4176bf4ad214fb4dabb77c",
     "grade": false,
     "grade_id": "test_get_genre_rating",
     "locked": true,
     "schema_version": 3,
     "solution": false,
     "task": false
    },
    "tags": []
   },
   "outputs": [],
   "source": [
    "genre_rating = get_genre_rating(\"Action\", genre_dict, avg_ratings)\n",
    "assert genre_rating > 3.525\n",
    "assert genre_rating < 3.53"
   ]
  },
  {
   "cell_type": "code",
   "execution_count": 22,
   "id": "6d32e9f4",
   "metadata": {
    "deletable": false,
    "editable": false,
    "nbgrader": {
     "cell_type": "code",
     "checksum": "07a17bb4bb3c8bd1219fa6b34e274c52",
     "grade": true,
     "grade_id": "test_get_movie_of_the_year",
     "locked": true,
     "points": 8,
     "schema_version": 3,
     "solution": false,
     "task": false
    },
    "tags": []
   },
   "outputs": [],
   "source": [
    "assert get_movie_of_the_year(1995, avg_ratings, movies_df) == 'Heat'"
   ]
  },
  {
   "cell_type": "code",
   "execution_count": 23,
   "id": "32fc594d",
   "metadata": {
    "deletable": false,
    "editable": false,
    "nbgrader": {
     "cell_type": "code",
     "checksum": "9bb983d006a5849559b020b190e975ce",
     "grade": false,
     "grade_id": "cell-12514b2016ef4847",
     "locked": true,
     "schema_version": 3,
     "solution": false,
     "task": false
    },
    "tags": []
   },
   "outputs": [],
   "source": [
    "from hw3 import read_user_ratings, get_user_genre, recommend_movies"
   ]
  },
  {
   "cell_type": "code",
   "execution_count": 24,
   "id": "e39a0f74",
   "metadata": {
    "tags": []
   },
   "outputs": [],
   "source": [
    "user_movies = read_user_ratings(\"ratingsSample.csv\")"
   ]
  },
  {
   "cell_type": "code",
   "execution_count": 25,
   "id": "52b587d3",
   "metadata": {
    "deletable": false,
    "editable": false,
    "nbgrader": {
     "cell_type": "code",
     "checksum": "d559fcde821fd31e494d8fe583ab1b0e",
     "grade": true,
     "grade_id": "test_read_user_ratings",
     "locked": true,
     "points": 8,
     "schema_version": 3,
     "solution": false,
     "task": false
    },
    "tags": []
   },
   "outputs": [],
   "source": [
    "assert user_movies[42] == [(3, 4.0)]"
   ]
  },
  {
   "cell_type": "markdown",
   "id": "457f9c48",
   "metadata": {
    "deletable": false,
    "editable": false,
    "nbgrader": {
     "cell_type": "markdown",
     "checksum": "f73614bf203fd5a62acf626d2fa24b7e",
     "grade": false,
     "grade_id": "cell-b8be3b67c6cda8b3",
     "locked": true,
     "schema_version": 3,
     "solution": false,
     "task": false
    },
    "tags": []
   },
   "source": [
    "Function `get_user_genre` that takes as parameters a user id, the user-to-movies dictionary\n",
    "(as created in Part 4.1 above), and the movies DataFrame (as created in Part 1.1), and returns\n",
    "the top genre that the user likes based on the user’s ratings. Here, the top genre for the user will be\n",
    "determined by taking the average rating of the movies genre-wise that the user has rated. If multiple\n",
    "genres have the same highest ratings for the user, return any one of genres (arbitrarily) as the top\n",
    "genre.\n"
   ]
  },
  {
   "cell_type": "code",
   "execution_count": 26,
   "id": "f4480f5a",
   "metadata": {
    "deletable": false,
    "editable": false,
    "nbgrader": {
     "cell_type": "code",
     "checksum": "b2c08ef9d4dd53ab1a5775df64557dbf",
     "grade": true,
     "grade_id": "test_get_user_genre",
     "locked": true,
     "points": 10,
     "schema_version": 3,
     "solution": false,
     "task": false
    },
    "tags": []
   },
   "outputs": [],
   "source": [
    "user_genre = get_user_genre(42, user_movies, movies_df)\n",
    "assert user_genre == \"Comedy\""
   ]
  },
  {
   "cell_type": "markdown",
   "id": "cb8cb4be",
   "metadata": {
    "deletable": false,
    "editable": false,
    "nbgrader": {
     "cell_type": "markdown",
     "checksum": "507c1deabdda45f74273d1e00cc7a484",
     "grade": false,
     "grade_id": "cell-1cbcb4e0701eb8e5",
     "locked": true,
     "schema_version": 3,
     "solution": false,
     "task": false
    },
    "tags": []
   },
   "source": [
    "Recommend 3 most popular (highest average rating) movies from the user’s top genre that the user\n",
    "has not yet rated. Write a function called `recommend_movies` for this, that takes as parameters a user id,\n",
    "the user-to-movies dictionary (as created in Part 4.1 above), the movies DataFrame (as created\n",
    "in Part 1.1), and the movie-to-average rating Series (as created in Part 2.2). The function should\n",
    "return a pandas Series of movie-to-average rating, sorted in decreasing order by rating. If fewer than 3 movies make the cut, then return all\n",
    "the movies that make the cut in order of top average ratings."
   ]
  },
  {
   "cell_type": "code",
   "execution_count": 27,
   "id": "999af648-c698-4326-ac27-d165210b629e",
   "metadata": {
    "tags": []
   },
   "outputs": [
    {
     "data": {
      "text/plain": [
       "Series([], dtype: float64)"
      ]
     },
     "execution_count": 27,
     "metadata": {},
     "output_type": "execute_result"
    }
   ],
   "source": [
    "recommend_movies(6, user_movies, movies_df, avg_ratings)"
   ]
  }
 ],
 "metadata": {
  "kernelspec": {
   "display_name": "Python 3",
   "language": "python",
   "name": "python3"
  },
  "language_info": {
   "codemirror_mode": {
    "name": "ipython",
    "version": 3
   },
   "file_extension": ".py",
   "mimetype": "text/x-python",
   "name": "python",
   "nbconvert_exporter": "python",
   "pygments_lexer": "ipython3",
   "version": "3.13.1"
  }
 },
 "nbformat": 4,
 "nbformat_minor": 5
}
